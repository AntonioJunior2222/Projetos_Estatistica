{
 "cells": [
  {
   "cell_type": "code",
   "execution_count": 1,
   "id": "89dd55bb",
   "metadata": {},
   "outputs": [],
   "source": [
    "# Importando Bibliotecas\n",
    "import numpy as np\n",
    "import pandas as pd\n",
    "# Definindo a precisão dos dados no projeto(3)\n",
    "pd.set_option(\"display.precision\", 3)"
   ]
  },
  {
   "cell_type": "code",
   "execution_count": 2,
   "id": "8a11f58f",
   "metadata": {},
   "outputs": [],
   "source": [
    "# Importando os Dados a Serem Trabalhados\n",
    "policia = pd.read_csv('police.csv')\n",
    "weather = pd.read_csv('weather.csv')"
   ]
  },
  {
   "cell_type": "markdown",
   "id": "592ecf15",
   "metadata": {},
   "source": [
    "## 1. Preparação dos dados para a análise.\n",
    "\n",
    "_Antes de iniciar sua análise, é fundamental que você primeiro examine e limpe o conjunto de\n",
    "dados, para tornar o trabalho com ele um processo mais eficiente. Nesta parte, você praticará a\n",
    "correção de tipos de dados, manipulação de valores ausentes e eliminação de colunas e linhas\n",
    "enquanto aprende sobre o conjunto de dados do Stanford Open Policing Project._\n",
    "\n",
    "----"
   ]
  },
  {
   "cell_type": "code",
   "execution_count": 3,
   "id": "1f82f174",
   "metadata": {},
   "outputs": [
    {
     "name": "stdout",
     "output_type": "stream",
     "text": [
      "<class 'pandas.core.frame.DataFrame'>\n",
      "RangeIndex: 91741 entries, 0 to 91740\n",
      "Data columns (total 15 columns):\n",
      " #   Column              Non-Null Count  Dtype  \n",
      "---  ------              --------------  -----  \n",
      " 0   state               91741 non-null  object \n",
      " 1   stop_date           91741 non-null  object \n",
      " 2   stop_time           91741 non-null  object \n",
      " 3   county_name         0 non-null      float64\n",
      " 4   driver_gender       86536 non-null  object \n",
      " 5   driver_race         86539 non-null  object \n",
      " 6   violation_raw       86539 non-null  object \n",
      " 7   violation           86539 non-null  object \n",
      " 8   search_conducted    91741 non-null  bool   \n",
      " 9   search_type         3307 non-null   object \n",
      " 10  stop_outcome        86539 non-null  object \n",
      " 11  is_arrested         86539 non-null  object \n",
      " 12  stop_duration       86539 non-null  object \n",
      " 13  drugs_related_stop  91741 non-null  bool   \n",
      " 14  district            91741 non-null  object \n",
      "dtypes: bool(2), float64(1), object(12)\n",
      "memory usage: 9.3+ MB\n"
     ]
    }
   ],
   "source": [
    "# Informações\n",
    "policia.info()"
   ]
  },
  {
   "cell_type": "code",
   "execution_count": 4,
   "id": "8d97f6a5",
   "metadata": {},
   "outputs": [
    {
     "data": {
      "text/plain": [
       "state                     0\n",
       "stop_date                 0\n",
       "stop_time                 0\n",
       "county_name           91741\n",
       "driver_gender          5205\n",
       "driver_race            5202\n",
       "violation_raw          5202\n",
       "violation              5202\n",
       "search_conducted          0\n",
       "search_type           88434\n",
       "stop_outcome           5202\n",
       "is_arrested            5202\n",
       "stop_duration          5202\n",
       "drugs_related_stop        0\n",
       "district                  0\n",
       "dtype: int64"
      ]
     },
     "execution_count": 4,
     "metadata": {},
     "output_type": "execute_result"
    }
   ],
   "source": [
    "# Faltosos\n",
    "policia.isnull().sum()"
   ]
  },
  {
   "cell_type": "code",
   "execution_count": 5,
   "id": "5fcf1d92",
   "metadata": {},
   "outputs": [],
   "source": [
    "# Droppando Coluna State e Criando Uma Variável Para Não Alterar os Dados Originais\n",
    "Policia = policia.drop(['state','county_name'],axis = 1)"
   ]
  },
  {
   "cell_type": "code",
   "execution_count": 6,
   "id": "58b2ec2f",
   "metadata": {},
   "outputs": [
    {
     "name": "stdout",
     "output_type": "stream",
     "text": [
      "<class 'pandas.core.frame.DataFrame'>\n",
      "RangeIndex: 91741 entries, 0 to 91740\n",
      "Data columns (total 13 columns):\n",
      " #   Column              Non-Null Count  Dtype \n",
      "---  ------              --------------  ----- \n",
      " 0   stop_date           91741 non-null  object\n",
      " 1   stop_time           91741 non-null  object\n",
      " 2   driver_gender       86536 non-null  object\n",
      " 3   driver_race         86539 non-null  object\n",
      " 4   violation_raw       86539 non-null  object\n",
      " 5   violation           86539 non-null  object\n",
      " 6   search_conducted    91741 non-null  bool  \n",
      " 7   search_type         3307 non-null   object\n",
      " 8   stop_outcome        86539 non-null  object\n",
      " 9   is_arrested         86539 non-null  object\n",
      " 10  stop_duration       86539 non-null  object\n",
      " 11  drugs_related_stop  91741 non-null  bool  \n",
      " 12  district            91741 non-null  object\n",
      "dtypes: bool(2), object(11)\n",
      "memory usage: 7.9+ MB\n"
     ]
    }
   ],
   "source": [
    "# Verificando Se O Procedimento Foi Realizado Corretamente\n",
    "Policia.info()"
   ]
  },
  {
   "cell_type": "code",
   "execution_count": 7,
   "id": "45f24468",
   "metadata": {},
   "outputs": [],
   "source": [
    "#Droppando os Valores Faltosos da Coluna \"Driver Gender\"\n",
    "Policia.dropna(subset=['driver_gender'], inplace = True) "
   ]
  },
  {
   "cell_type": "code",
   "execution_count": 8,
   "id": "c1866567",
   "metadata": {},
   "outputs": [
    {
     "name": "stdout",
     "output_type": "stream",
     "text": [
      "<class 'pandas.core.frame.DataFrame'>\n",
      "Int64Index: 86536 entries, 0 to 91740\n",
      "Data columns (total 13 columns):\n",
      " #   Column              Non-Null Count  Dtype \n",
      "---  ------              --------------  ----- \n",
      " 0   stop_date           86536 non-null  object\n",
      " 1   stop_time           86536 non-null  object\n",
      " 2   driver_gender       86536 non-null  object\n",
      " 3   driver_race         86536 non-null  object\n",
      " 4   violation_raw       86536 non-null  object\n",
      " 5   violation           86536 non-null  object\n",
      " 6   search_conducted    86536 non-null  bool  \n",
      " 7   search_type         3307 non-null   object\n",
      " 8   stop_outcome        86536 non-null  object\n",
      " 9   is_arrested         86536 non-null  object\n",
      " 10  stop_duration       86536 non-null  object\n",
      " 11  drugs_related_stop  86536 non-null  bool  \n",
      " 12  district            86536 non-null  object\n",
      "dtypes: bool(2), object(11)\n",
      "memory usage: 8.1+ MB\n"
     ]
    }
   ],
   "source": [
    "# Verificando Se O Procedimento Foi Realizado Corretamente\n",
    "Policia.info()"
   ]
  },
  {
   "cell_type": "code",
   "execution_count": 9,
   "id": "546cf033",
   "metadata": {},
   "outputs": [],
   "source": [
    "# Mudando o Tipo de Dados para Objeto\n",
    "Policia['search_conducted'] = Policia['search_conducted'].astype(object)"
   ]
  },
  {
   "cell_type": "code",
   "execution_count": 10,
   "id": "c8590c02",
   "metadata": {},
   "outputs": [
    {
     "name": "stdout",
     "output_type": "stream",
     "text": [
      "<class 'pandas.core.frame.DataFrame'>\n",
      "Int64Index: 86536 entries, 0 to 91740\n",
      "Data columns (total 13 columns):\n",
      " #   Column              Non-Null Count  Dtype \n",
      "---  ------              --------------  ----- \n",
      " 0   stop_date           86536 non-null  object\n",
      " 1   stop_time           86536 non-null  object\n",
      " 2   driver_gender       86536 non-null  object\n",
      " 3   driver_race         86536 non-null  object\n",
      " 4   violation_raw       86536 non-null  object\n",
      " 5   violation           86536 non-null  object\n",
      " 6   search_conducted    86536 non-null  object\n",
      " 7   search_type         3307 non-null   object\n",
      " 8   stop_outcome        86536 non-null  object\n",
      " 9   is_arrested         86536 non-null  object\n",
      " 10  stop_duration       86536 non-null  object\n",
      " 11  drugs_related_stop  86536 non-null  bool  \n",
      " 12  district            86536 non-null  object\n",
      "dtypes: bool(1), object(12)\n",
      "memory usage: 8.7+ MB\n"
     ]
    }
   ],
   "source": [
    "# Verificando Se O Procedimento Foi Realizado Corretamente\n",
    "Policia.info()"
   ]
  },
  {
   "cell_type": "code",
   "execution_count": 11,
   "id": "2e33f141",
   "metadata": {},
   "outputs": [],
   "source": [
    "# Criando uma Coluna que Receba Ambas as Informações de Data e Horário\n",
    "Policia['stop_datetime'] = Policia[['stop_date','stop_time']].agg('  '.join, axis=1)"
   ]
  },
  {
   "cell_type": "code",
   "execution_count": 12,
   "id": "4a7aa0ce",
   "metadata": {
    "scrolled": true
   },
   "outputs": [],
   "source": [
    "# Convertendo Para Datetime\n",
    "Policia['stop_datetime'] = pd.to_datetime(Policia['stop_datetime'])"
   ]
  },
  {
   "cell_type": "code",
   "execution_count": 13,
   "id": "5482a5d8",
   "metadata": {},
   "outputs": [],
   "source": [
    "# Removendo as Colunas Não Mais Necessárias\n",
    "Policia.drop(['stop_date','stop_time'],axis = 1, inplace = True)"
   ]
  },
  {
   "cell_type": "code",
   "execution_count": 14,
   "id": "de6b0f8d",
   "metadata": {
    "scrolled": false
   },
   "outputs": [
    {
     "data": {
      "text/html": [
       "<div>\n",
       "<style scoped>\n",
       "    .dataframe tbody tr th:only-of-type {\n",
       "        vertical-align: middle;\n",
       "    }\n",
       "\n",
       "    .dataframe tbody tr th {\n",
       "        vertical-align: top;\n",
       "    }\n",
       "\n",
       "    .dataframe thead th {\n",
       "        text-align: right;\n",
       "    }\n",
       "</style>\n",
       "<table border=\"1\" class=\"dataframe\">\n",
       "  <thead>\n",
       "    <tr style=\"text-align: right;\">\n",
       "      <th></th>\n",
       "      <th>driver_gender</th>\n",
       "      <th>driver_race</th>\n",
       "      <th>violation_raw</th>\n",
       "      <th>violation</th>\n",
       "      <th>search_conducted</th>\n",
       "      <th>search_type</th>\n",
       "      <th>stop_outcome</th>\n",
       "      <th>is_arrested</th>\n",
       "      <th>stop_duration</th>\n",
       "      <th>drugs_related_stop</th>\n",
       "      <th>district</th>\n",
       "    </tr>\n",
       "    <tr>\n",
       "      <th>stop_datetime</th>\n",
       "      <th></th>\n",
       "      <th></th>\n",
       "      <th></th>\n",
       "      <th></th>\n",
       "      <th></th>\n",
       "      <th></th>\n",
       "      <th></th>\n",
       "      <th></th>\n",
       "      <th></th>\n",
       "      <th></th>\n",
       "      <th></th>\n",
       "    </tr>\n",
       "  </thead>\n",
       "  <tbody>\n",
       "    <tr>\n",
       "      <th>2005-01-04 12:55:00</th>\n",
       "      <td>M</td>\n",
       "      <td>White</td>\n",
       "      <td>Equipment/Inspection Violation</td>\n",
       "      <td>Equipment</td>\n",
       "      <td>False</td>\n",
       "      <td>NaN</td>\n",
       "      <td>Citation</td>\n",
       "      <td>False</td>\n",
       "      <td>0-15 Min</td>\n",
       "      <td>False</td>\n",
       "      <td>Zone X4</td>\n",
       "    </tr>\n",
       "    <tr>\n",
       "      <th>2005-01-23 23:15:00</th>\n",
       "      <td>M</td>\n",
       "      <td>White</td>\n",
       "      <td>Speeding</td>\n",
       "      <td>Speeding</td>\n",
       "      <td>False</td>\n",
       "      <td>NaN</td>\n",
       "      <td>Citation</td>\n",
       "      <td>False</td>\n",
       "      <td>0-15 Min</td>\n",
       "      <td>False</td>\n",
       "      <td>Zone K3</td>\n",
       "    </tr>\n",
       "    <tr>\n",
       "      <th>2005-02-17 04:15:00</th>\n",
       "      <td>M</td>\n",
       "      <td>White</td>\n",
       "      <td>Speeding</td>\n",
       "      <td>Speeding</td>\n",
       "      <td>False</td>\n",
       "      <td>NaN</td>\n",
       "      <td>Citation</td>\n",
       "      <td>False</td>\n",
       "      <td>0-15 Min</td>\n",
       "      <td>False</td>\n",
       "      <td>Zone X4</td>\n",
       "    </tr>\n",
       "    <tr>\n",
       "      <th>2005-02-20 17:15:00</th>\n",
       "      <td>M</td>\n",
       "      <td>White</td>\n",
       "      <td>Call for Service</td>\n",
       "      <td>Other</td>\n",
       "      <td>False</td>\n",
       "      <td>NaN</td>\n",
       "      <td>Arrest Driver</td>\n",
       "      <td>True</td>\n",
       "      <td>16-30 Min</td>\n",
       "      <td>False</td>\n",
       "      <td>Zone X1</td>\n",
       "    </tr>\n",
       "    <tr>\n",
       "      <th>2005-02-24 01:20:00</th>\n",
       "      <td>F</td>\n",
       "      <td>White</td>\n",
       "      <td>Speeding</td>\n",
       "      <td>Speeding</td>\n",
       "      <td>False</td>\n",
       "      <td>NaN</td>\n",
       "      <td>Citation</td>\n",
       "      <td>False</td>\n",
       "      <td>0-15 Min</td>\n",
       "      <td>False</td>\n",
       "      <td>Zone X3</td>\n",
       "    </tr>\n",
       "    <tr>\n",
       "      <th>...</th>\n",
       "      <td>...</td>\n",
       "      <td>...</td>\n",
       "      <td>...</td>\n",
       "      <td>...</td>\n",
       "      <td>...</td>\n",
       "      <td>...</td>\n",
       "      <td>...</td>\n",
       "      <td>...</td>\n",
       "      <td>...</td>\n",
       "      <td>...</td>\n",
       "      <td>...</td>\n",
       "    </tr>\n",
       "    <tr>\n",
       "      <th>2015-12-31 21:21:00</th>\n",
       "      <td>F</td>\n",
       "      <td>Black</td>\n",
       "      <td>Other Traffic Violation</td>\n",
       "      <td>Moving violation</td>\n",
       "      <td>False</td>\n",
       "      <td>NaN</td>\n",
       "      <td>Citation</td>\n",
       "      <td>False</td>\n",
       "      <td>0-15 Min</td>\n",
       "      <td>False</td>\n",
       "      <td>Zone K2</td>\n",
       "    </tr>\n",
       "    <tr>\n",
       "      <th>2015-12-31 21:59:00</th>\n",
       "      <td>F</td>\n",
       "      <td>White</td>\n",
       "      <td>Speeding</td>\n",
       "      <td>Speeding</td>\n",
       "      <td>False</td>\n",
       "      <td>NaN</td>\n",
       "      <td>Citation</td>\n",
       "      <td>False</td>\n",
       "      <td>0-15 Min</td>\n",
       "      <td>False</td>\n",
       "      <td>Zone K3</td>\n",
       "    </tr>\n",
       "    <tr>\n",
       "      <th>2015-12-31 22:04:00</th>\n",
       "      <td>M</td>\n",
       "      <td>White</td>\n",
       "      <td>Other Traffic Violation</td>\n",
       "      <td>Moving violation</td>\n",
       "      <td>False</td>\n",
       "      <td>NaN</td>\n",
       "      <td>Citation</td>\n",
       "      <td>False</td>\n",
       "      <td>0-15 Min</td>\n",
       "      <td>False</td>\n",
       "      <td>Zone X3</td>\n",
       "    </tr>\n",
       "    <tr>\n",
       "      <th>2015-12-31 22:09:00</th>\n",
       "      <td>F</td>\n",
       "      <td>Hispanic</td>\n",
       "      <td>Equipment/Inspection Violation</td>\n",
       "      <td>Equipment</td>\n",
       "      <td>False</td>\n",
       "      <td>NaN</td>\n",
       "      <td>Warning</td>\n",
       "      <td>False</td>\n",
       "      <td>0-15 Min</td>\n",
       "      <td>False</td>\n",
       "      <td>Zone K3</td>\n",
       "    </tr>\n",
       "    <tr>\n",
       "      <th>2015-12-31 22:47:00</th>\n",
       "      <td>M</td>\n",
       "      <td>White</td>\n",
       "      <td>Registration Violation</td>\n",
       "      <td>Registration/plates</td>\n",
       "      <td>False</td>\n",
       "      <td>NaN</td>\n",
       "      <td>Citation</td>\n",
       "      <td>False</td>\n",
       "      <td>0-15 Min</td>\n",
       "      <td>False</td>\n",
       "      <td>Zone X4</td>\n",
       "    </tr>\n",
       "  </tbody>\n",
       "</table>\n",
       "<p>86536 rows × 11 columns</p>\n",
       "</div>"
      ],
      "text/plain": [
       "                    driver_gender driver_race                   violation_raw  \\\n",
       "stop_datetime                                                                   \n",
       "2005-01-04 12:55:00             M       White  Equipment/Inspection Violation   \n",
       "2005-01-23 23:15:00             M       White                        Speeding   \n",
       "2005-02-17 04:15:00             M       White                        Speeding   \n",
       "2005-02-20 17:15:00             M       White                Call for Service   \n",
       "2005-02-24 01:20:00             F       White                        Speeding   \n",
       "...                           ...         ...                             ...   \n",
       "2015-12-31 21:21:00             F       Black         Other Traffic Violation   \n",
       "2015-12-31 21:59:00             F       White                        Speeding   \n",
       "2015-12-31 22:04:00             M       White         Other Traffic Violation   \n",
       "2015-12-31 22:09:00             F    Hispanic  Equipment/Inspection Violation   \n",
       "2015-12-31 22:47:00             M       White          Registration Violation   \n",
       "\n",
       "                               violation search_conducted search_type  \\\n",
       "stop_datetime                                                           \n",
       "2005-01-04 12:55:00            Equipment            False         NaN   \n",
       "2005-01-23 23:15:00             Speeding            False         NaN   \n",
       "2005-02-17 04:15:00             Speeding            False         NaN   \n",
       "2005-02-20 17:15:00                Other            False         NaN   \n",
       "2005-02-24 01:20:00             Speeding            False         NaN   \n",
       "...                                  ...              ...         ...   \n",
       "2015-12-31 21:21:00     Moving violation            False         NaN   \n",
       "2015-12-31 21:59:00             Speeding            False         NaN   \n",
       "2015-12-31 22:04:00     Moving violation            False         NaN   \n",
       "2015-12-31 22:09:00            Equipment            False         NaN   \n",
       "2015-12-31 22:47:00  Registration/plates            False         NaN   \n",
       "\n",
       "                      stop_outcome is_arrested stop_duration  \\\n",
       "stop_datetime                                                  \n",
       "2005-01-04 12:55:00       Citation       False      0-15 Min   \n",
       "2005-01-23 23:15:00       Citation       False      0-15 Min   \n",
       "2005-02-17 04:15:00       Citation       False      0-15 Min   \n",
       "2005-02-20 17:15:00  Arrest Driver        True     16-30 Min   \n",
       "2005-02-24 01:20:00       Citation       False      0-15 Min   \n",
       "...                            ...         ...           ...   \n",
       "2015-12-31 21:21:00       Citation       False      0-15 Min   \n",
       "2015-12-31 21:59:00       Citation       False      0-15 Min   \n",
       "2015-12-31 22:04:00       Citation       False      0-15 Min   \n",
       "2015-12-31 22:09:00        Warning       False      0-15 Min   \n",
       "2015-12-31 22:47:00       Citation       False      0-15 Min   \n",
       "\n",
       "                     drugs_related_stop district  \n",
       "stop_datetime                                     \n",
       "2005-01-04 12:55:00               False  Zone X4  \n",
       "2005-01-23 23:15:00               False  Zone K3  \n",
       "2005-02-17 04:15:00               False  Zone X4  \n",
       "2005-02-20 17:15:00               False  Zone X1  \n",
       "2005-02-24 01:20:00               False  Zone X3  \n",
       "...                                 ...      ...  \n",
       "2015-12-31 21:21:00               False  Zone K2  \n",
       "2015-12-31 21:59:00               False  Zone K3  \n",
       "2015-12-31 22:04:00               False  Zone X3  \n",
       "2015-12-31 22:09:00               False  Zone K3  \n",
       "2015-12-31 22:47:00               False  Zone X4  \n",
       "\n",
       "[86536 rows x 11 columns]"
      ]
     },
     "execution_count": 14,
     "metadata": {},
     "output_type": "execute_result"
    }
   ],
   "source": [
    "# Tornando a Coluna Datetime em Index\n",
    "Policia.set_index('stop_datetime')"
   ]
  },
  {
   "cell_type": "markdown",
   "id": "2a73e86e",
   "metadata": {},
   "source": [
    "## 2. Análise do gênero sobre as infrações.\n",
    "\n",
    "_O gênero do motorista influencia o comportamento da polícia durante uma parada no trânsito?\n",
    "Nesta parte, você explorará essa questão enquanto pratica filtragem, agrupamento e muito\n",
    "mais!_\n",
    "\n",
    "----"
   ]
  },
  {
   "cell_type": "code",
   "execution_count": 15,
   "id": "a295d275",
   "metadata": {},
   "outputs": [
    {
     "data": {
      "text/plain": [
       "array(['Equipment', 'Speeding', 'Other', 'Moving violation',\n",
       "       'Registration/plates', 'Seat belt'], dtype=object)"
      ]
     },
     "execution_count": 15,
     "metadata": {},
     "output_type": "execute_result"
    }
   ],
   "source": [
    "# Verificando os Tipos de Infrações\n",
    "Policia['violation'].unique()"
   ]
  },
  {
   "cell_type": "code",
   "execution_count": 16,
   "id": "24f027bb",
   "metadata": {},
   "outputs": [
    {
     "data": {
      "text/plain": [
       "Speeding               48423\n",
       "Moving violation       16224\n",
       "Equipment              10921\n",
       "Other                   4409\n",
       "Registration/plates     3703\n",
       "Seat belt               2856\n",
       "Name: violation, dtype: int64"
      ]
     },
     "execution_count": 16,
     "metadata": {},
     "output_type": "execute_result"
    }
   ],
   "source": [
    "# Contando Quantas Vezes Cada Infração Ocorreu\n",
    "Policia['violation'].value_counts()"
   ]
  },
  {
   "cell_type": "code",
   "execution_count": 17,
   "id": "93455e33",
   "metadata": {},
   "outputs": [
    {
     "data": {
      "text/html": [
       "<div>\n",
       "<style scoped>\n",
       "    .dataframe tbody tr th:only-of-type {\n",
       "        vertical-align: middle;\n",
       "    }\n",
       "\n",
       "    .dataframe tbody tr th {\n",
       "        vertical-align: top;\n",
       "    }\n",
       "\n",
       "    .dataframe thead th {\n",
       "        text-align: right;\n",
       "    }\n",
       "</style>\n",
       "<table border=\"1\" class=\"dataframe\">\n",
       "  <thead>\n",
       "    <tr style=\"text-align: right;\">\n",
       "      <th></th>\n",
       "      <th>FREQUÊNCIA ABS.</th>\n",
       "      <th>FREQUÊNCIA REL.</th>\n",
       "    </tr>\n",
       "    <tr>\n",
       "      <th>CAUSA</th>\n",
       "      <th></th>\n",
       "      <th></th>\n",
       "    </tr>\n",
       "  </thead>\n",
       "  <tbody>\n",
       "    <tr>\n",
       "      <th>Speeding</th>\n",
       "      <td>48423</td>\n",
       "      <td>0.560</td>\n",
       "    </tr>\n",
       "    <tr>\n",
       "      <th>Moving violation</th>\n",
       "      <td>16224</td>\n",
       "      <td>0.187</td>\n",
       "    </tr>\n",
       "    <tr>\n",
       "      <th>Equipment</th>\n",
       "      <td>10921</td>\n",
       "      <td>0.126</td>\n",
       "    </tr>\n",
       "    <tr>\n",
       "      <th>Registration/plates</th>\n",
       "      <td>3703</td>\n",
       "      <td>0.043</td>\n",
       "    </tr>\n",
       "    <tr>\n",
       "      <th>Seat belt</th>\n",
       "      <td>2856</td>\n",
       "      <td>0.033</td>\n",
       "    </tr>\n",
       "    <tr>\n",
       "      <th>Other</th>\n",
       "      <td>4409</td>\n",
       "      <td>0.051</td>\n",
       "    </tr>\n",
       "    <tr>\n",
       "      <th>Total</th>\n",
       "      <td>86536</td>\n",
       "      <td>1.000</td>\n",
       "    </tr>\n",
       "  </tbody>\n",
       "</table>\n",
       "</div>"
      ],
      "text/plain": [
       "                     FREQUÊNCIA ABS.  FREQUÊNCIA REL.\n",
       "CAUSA                                                \n",
       "Speeding                       48423            0.560\n",
       "Moving violation               16224            0.187\n",
       "Equipment                      10921            0.126\n",
       "Registration/plates             3703            0.043\n",
       "Seat belt                       2856            0.033\n",
       "Other                           4409            0.051\n",
       "Total                          86536            1.000"
      ]
     },
     "execution_count": 17,
     "metadata": {},
     "output_type": "execute_result"
    }
   ],
   "source": [
    "# Criando Uma Tabela de Frequências Para As Infrações\n",
    "a = Policia['violation'].value_counts().sum()\n",
    "data = {'CAUSA' : ['Speeding', 'Moving violation', 'Equipment', 'Registration/plates', 'Seat belt', 'Other', 'Total'], \n",
    "        'FREQUÊNCIA ABS.': [48423, 16224, 10921, 3703, 2856, 4409 , a], \n",
    "       'FREQUÊNCIA REL.' : [48423/a, 16224/a, 10921/a, 3703/a, 2856/a, 4409/a, a/a]}\n",
    "\n",
    "tf = pd.DataFrame(data)\n",
    "tf.set_index('CAUSA')"
   ]
  },
  {
   "cell_type": "markdown",
   "id": "59233fb4",
   "metadata": {},
   "source": [
    "__A ocorrência mais comum foi Speeding(Excesso de Velocidade), já a menos comum foi Seat Belt(Auxência de Sinto de Segurança).__\n",
    "\n",
    "---"
   ]
  },
  {
   "cell_type": "code",
   "execution_count": 18,
   "id": "61f46244",
   "metadata": {},
   "outputs": [
    {
     "name": "stdout",
     "output_type": "stream",
     "text": [
      "M    62762\n",
      "F    23774\n",
      "Name: driver_gender, dtype: int64\n"
     ]
    },
    {
     "data": {
      "text/plain": [
       "driver_gender  violation          \n",
       "M              Speeding               32777\n",
       "F              Speeding               15646\n",
       "M              Moving violation       12938\n",
       "               Equipment               8420\n",
       "               Other                   3702\n",
       "F              Moving violation        3286\n",
       "M              Registration/plates     2647\n",
       "F              Equipment               2501\n",
       "M              Seat belt               2278\n",
       "F              Registration/plates     1056\n",
       "               Other                    707\n",
       "               Seat belt                578\n",
       "dtype: int64"
      ]
     },
     "execution_count": 18,
     "metadata": {},
     "output_type": "execute_result"
    }
   ],
   "source": [
    "# Contando Quantas Vezes Cada Infração Ocorreu Para Cada Sexo\n",
    "print(Policia['driver_gender'].value_counts())\n",
    "Policia[['driver_gender','violation']].value_counts()"
   ]
  },
  {
   "cell_type": "code",
   "execution_count": 19,
   "id": "1df3e369",
   "metadata": {},
   "outputs": [],
   "source": [
    "# Criando Uma Tabela de Contingência Absoluta Para As Infrações Separadas Por Sexo\n",
    "data = {'CAUSA' : ['Speeding', 'Moving violation', 'Equipment', 'Registration/plates', 'Seat belt', 'Other', 'Total'], \n",
    "        \"MASCULINO\" : [ 32777, 12938,8420,2647,2278,3702,62762],\n",
    "        \"FEMININO\" : [15646, 3286, 2501, 1056, 578, 707,23774]}\n",
    "tfabs = pd.DataFrame(data)"
   ]
  },
  {
   "cell_type": "code",
   "execution_count": 20,
   "id": "e6aef22e",
   "metadata": {},
   "outputs": [
    {
     "data": {
      "text/html": [
       "<div>\n",
       "<style scoped>\n",
       "    .dataframe tbody tr th:only-of-type {\n",
       "        vertical-align: middle;\n",
       "    }\n",
       "\n",
       "    .dataframe tbody tr th {\n",
       "        vertical-align: top;\n",
       "    }\n",
       "\n",
       "    .dataframe thead th {\n",
       "        text-align: right;\n",
       "    }\n",
       "</style>\n",
       "<table border=\"1\" class=\"dataframe\">\n",
       "  <thead>\n",
       "    <tr style=\"text-align: right;\">\n",
       "      <th></th>\n",
       "      <th>MASCULINO</th>\n",
       "      <th>FEMININO</th>\n",
       "    </tr>\n",
       "    <tr>\n",
       "      <th>CAUSA</th>\n",
       "      <th></th>\n",
       "      <th></th>\n",
       "    </tr>\n",
       "  </thead>\n",
       "  <tbody>\n",
       "    <tr>\n",
       "      <th>Speeding</th>\n",
       "      <td>32777</td>\n",
       "      <td>15646</td>\n",
       "    </tr>\n",
       "    <tr>\n",
       "      <th>Moving violation</th>\n",
       "      <td>12938</td>\n",
       "      <td>3286</td>\n",
       "    </tr>\n",
       "    <tr>\n",
       "      <th>Equipment</th>\n",
       "      <td>8420</td>\n",
       "      <td>2501</td>\n",
       "    </tr>\n",
       "    <tr>\n",
       "      <th>Registration/plates</th>\n",
       "      <td>2647</td>\n",
       "      <td>1056</td>\n",
       "    </tr>\n",
       "    <tr>\n",
       "      <th>Seat belt</th>\n",
       "      <td>2278</td>\n",
       "      <td>578</td>\n",
       "    </tr>\n",
       "    <tr>\n",
       "      <th>Other</th>\n",
       "      <td>3702</td>\n",
       "      <td>707</td>\n",
       "    </tr>\n",
       "    <tr>\n",
       "      <th>Total</th>\n",
       "      <td>62762</td>\n",
       "      <td>23774</td>\n",
       "    </tr>\n",
       "  </tbody>\n",
       "</table>\n",
       "</div>"
      ],
      "text/plain": [
       "                     MASCULINO  FEMININO\n",
       "CAUSA                                   \n",
       "Speeding                 32777     15646\n",
       "Moving violation         12938      3286\n",
       "Equipment                 8420      2501\n",
       "Registration/plates       2647      1056\n",
       "Seat belt                 2278       578\n",
       "Other                     3702       707\n",
       "Total                    62762     23774"
      ]
     },
     "execution_count": 20,
     "metadata": {},
     "output_type": "execute_result"
    }
   ],
   "source": [
    "tfabs.set_index('CAUSA')"
   ]
  },
  {
   "cell_type": "code",
   "execution_count": 21,
   "id": "629255ba",
   "metadata": {},
   "outputs": [],
   "source": [
    "# Criando Uma Tabela de Contingência Relativa Para As Infrações Separadas Por Sexo\n",
    "data2rel = {'CAUSA' : ['Speeding', 'Moving violation', 'Equipment', 'Registration/plates', 'Seat belt', 'Other', 'Total'], \n",
    "            'MASCULINO' : [ 32777/62762, 12938/62762,8420/62762,2647/62762,2278/62762,3702/62762,62762/62762], \n",
    "            'FEMININO' : [15646/23774, 3286/23774, 2501/23774, 1056/23774, 578/23774, 707/23774,23774/23774]}"
   ]
  },
  {
   "cell_type": "code",
   "execution_count": 22,
   "id": "03e4c0c0",
   "metadata": {},
   "outputs": [
    {
     "data": {
      "text/html": [
       "<div>\n",
       "<style scoped>\n",
       "    .dataframe tbody tr th:only-of-type {\n",
       "        vertical-align: middle;\n",
       "    }\n",
       "\n",
       "    .dataframe tbody tr th {\n",
       "        vertical-align: top;\n",
       "    }\n",
       "\n",
       "    .dataframe thead th {\n",
       "        text-align: right;\n",
       "    }\n",
       "</style>\n",
       "<table border=\"1\" class=\"dataframe\">\n",
       "  <thead>\n",
       "    <tr style=\"text-align: right;\">\n",
       "      <th></th>\n",
       "      <th>MASCULINO</th>\n",
       "      <th>FEMININO</th>\n",
       "    </tr>\n",
       "    <tr>\n",
       "      <th>CAUSA</th>\n",
       "      <th></th>\n",
       "      <th></th>\n",
       "    </tr>\n",
       "  </thead>\n",
       "  <tbody>\n",
       "    <tr>\n",
       "      <th>Speeding</th>\n",
       "      <td>0.522</td>\n",
       "      <td>0.658</td>\n",
       "    </tr>\n",
       "    <tr>\n",
       "      <th>Moving violation</th>\n",
       "      <td>0.206</td>\n",
       "      <td>0.138</td>\n",
       "    </tr>\n",
       "    <tr>\n",
       "      <th>Equipment</th>\n",
       "      <td>0.134</td>\n",
       "      <td>0.105</td>\n",
       "    </tr>\n",
       "    <tr>\n",
       "      <th>Registration/plates</th>\n",
       "      <td>0.042</td>\n",
       "      <td>0.044</td>\n",
       "    </tr>\n",
       "    <tr>\n",
       "      <th>Seat belt</th>\n",
       "      <td>0.036</td>\n",
       "      <td>0.024</td>\n",
       "    </tr>\n",
       "    <tr>\n",
       "      <th>Other</th>\n",
       "      <td>0.059</td>\n",
       "      <td>0.030</td>\n",
       "    </tr>\n",
       "    <tr>\n",
       "      <th>Total</th>\n",
       "      <td>1.000</td>\n",
       "      <td>1.000</td>\n",
       "    </tr>\n",
       "  </tbody>\n",
       "</table>\n",
       "</div>"
      ],
      "text/plain": [
       "                     MASCULINO  FEMININO\n",
       "CAUSA                                   \n",
       "Speeding                 0.522     0.658\n",
       "Moving violation         0.206     0.138\n",
       "Equipment                0.134     0.105\n",
       "Registration/plates      0.042     0.044\n",
       "Seat belt                0.036     0.024\n",
       "Other                    0.059     0.030\n",
       "Total                    1.000     1.000"
      ]
     },
     "execution_count": 22,
     "metadata": {},
     "output_type": "execute_result"
    }
   ],
   "source": [
    "tfrel = pd.DataFrame(data2rel)\n",
    "tfrel.set_index('CAUSA')"
   ]
  },
  {
   "cell_type": "markdown",
   "id": "2d4d6a4e",
   "metadata": {},
   "source": [
    "__Não expressivamente, podemos ver que baseado no Data Frame temos que mulheres cometem a infração Speeding mais que homens, porém homens cometem mais a infração Moving Violation, no entanto todas as outras infrações são cometidas na mesma proporção.__\n",
    "\n",
    "---"
   ]
  },
  {
   "cell_type": "code",
   "execution_count": 23,
   "id": "5acf4e91",
   "metadata": {},
   "outputs": [
    {
     "data": {
      "text/plain": [
       "<AxesSubplot:title={'center':'Gráfico de Barras Para a Variável \"Violation\" Considerando o Sexo do Violador'}, xlabel='Causas: 6 - Total / 5 - Other / 4 - Seat Belt / 3 - Registrantion/Plates / 2 - Equipment / 1 - Moving Violation / 0 - Speeding ', ylabel='Número de Ocorrências'>"
      ]
     },
     "execution_count": 23,
     "metadata": {},
     "output_type": "execute_result"
    },
    {
     "data": {
      "image/png": "[encoded data removed]",
      "text/plain": [
       "<Figure size 432x288 with 1 Axes>"
      ]
     },
     "metadata": {
      "needs_background": "light"
     },
     "output_type": "display_data"
    }
   ],
   "source": [
    "# Construindo um Gráfico de Barras\n",
    "tfabs.plot.bar(title = 'Gráfico de Barras Para a Variável \"Violation\" Considerando o Sexo do Violador', \n",
    "               xlabel = 'Causas: 6 - Total / 5 - Other / 4 - Seat Belt / 3 - Registrantion/Plates / 2 - Equipment / 1 - Moving Violation / 0 - Speeding ',\n",
    "              ylabel = \"Número de Ocorrências\")"
   ]
  },
  {
   "cell_type": "code",
   "execution_count": 24,
   "id": "00e3ffad",
   "metadata": {},
   "outputs": [
    {
     "data": {
      "text/plain": [
       "driver_gender  stop_outcome    \n",
       "M              Citation            55840\n",
       "F              Citation            21251\n",
       "M              Warning              3651\n",
       "               Arrest Driver        2179\n",
       "F              Warning              1485\n",
       "               Arrest Driver         556\n",
       "M              N/D                   439\n",
       "               No Action             423\n",
       "               Arrest Passenger      230\n",
       "F              No Action             201\n",
       "               N/D                   168\n",
       "               Arrest Passenger      113\n",
       "dtype: int64"
      ]
     },
     "execution_count": 24,
     "metadata": {},
     "output_type": "execute_result"
    }
   ],
   "source": [
    "# Contando Quantas Ocorrências Se Tornaram Multas, ou apenas Avisos\n",
    "Policia[['driver_gender','stop_outcome']].value_counts()"
   ]
  },
  {
   "cell_type": "code",
   "execution_count": 25,
   "id": "fe37b1c6",
   "metadata": {},
   "outputs": [],
   "source": [
    "# Criando Tabela de Contingência Para Expor Estes Resultados\n",
    "data = {'RESULTADO DA OCORRÊNCIA' : ['Citation', 'Warning', 'Total'], \n",
    "        \"MASCULINO\" : [ (55840/59491)*100, (3651/59491)*100, (59491/59491)*100], \n",
    "                             'FEMININO' : [(21251/22736)*100, (1485/22736)*100, (22736/22736)*100]}\n",
    "tfabs = pd.DataFrame(data)"
   ]
  },
  {
   "cell_type": "code",
   "execution_count": 26,
   "id": "c4bca130",
   "metadata": {},
   "outputs": [
    {
     "data": {
      "text/html": [
       "<div>\n",
       "<style scoped>\n",
       "    .dataframe tbody tr th:only-of-type {\n",
       "        vertical-align: middle;\n",
       "    }\n",
       "\n",
       "    .dataframe tbody tr th {\n",
       "        vertical-align: top;\n",
       "    }\n",
       "\n",
       "    .dataframe thead th {\n",
       "        text-align: right;\n",
       "    }\n",
       "</style>\n",
       "<table border=\"1\" class=\"dataframe\">\n",
       "  <thead>\n",
       "    <tr style=\"text-align: right;\">\n",
       "      <th></th>\n",
       "      <th>MASCULINO</th>\n",
       "      <th>FEMININO</th>\n",
       "    </tr>\n",
       "    <tr>\n",
       "      <th>RESULTADO DA OCORRÊNCIA</th>\n",
       "      <th></th>\n",
       "      <th></th>\n",
       "    </tr>\n",
       "  </thead>\n",
       "  <tbody>\n",
       "    <tr>\n",
       "      <th>Citation</th>\n",
       "      <td>93.863</td>\n",
       "      <td>93.469</td>\n",
       "    </tr>\n",
       "    <tr>\n",
       "      <th>Warning</th>\n",
       "      <td>6.137</td>\n",
       "      <td>6.531</td>\n",
       "    </tr>\n",
       "    <tr>\n",
       "      <th>Total</th>\n",
       "      <td>100.000</td>\n",
       "      <td>100.000</td>\n",
       "    </tr>\n",
       "  </tbody>\n",
       "</table>\n",
       "</div>"
      ],
      "text/plain": [
       "                         MASCULINO  FEMININO\n",
       "RESULTADO DA OCORRÊNCIA                     \n",
       "Citation                    93.863    93.469\n",
       "Warning                      6.137     6.531\n",
       "Total                      100.000   100.000"
      ]
     },
     "execution_count": 26,
     "metadata": {},
     "output_type": "execute_result"
    }
   ],
   "source": [
    "tfabs.set_index('RESULTADO DA OCORRÊNCIA')"
   ]
  },
  {
   "cell_type": "markdown",
   "id": "3237d992",
   "metadata": {},
   "source": [
    "__Obs: Dados em Porcentagem.__\n",
    "\n",
    "---"
   ]
  },
  {
   "cell_type": "code",
   "execution_count": 27,
   "id": "98c41282",
   "metadata": {
    "scrolled": true
   },
   "outputs": [
    {
     "name": "stdout",
     "output_type": "stream",
     "text": [
      "driver_gender  violation          \n",
      "M              Speeding               32777\n",
      "F              Speeding               15646\n",
      "M              Moving violation       12938\n",
      "               Equipment               8420\n",
      "               Other                   3702\n",
      "F              Moving violation        3286\n",
      "M              Registration/plates     2647\n",
      "F              Equipment               2501\n",
      "M              Seat belt               2278\n",
      "F              Registration/plates     1056\n",
      "               Other                    707\n",
      "               Seat belt                578\n",
      "dtype: int64\n"
     ]
    },
    {
     "data": {
      "text/plain": [
       "driver_gender  violation          \n",
       "F              Equipment              100\n",
       "               Moving violation       129\n",
       "               Other                   29\n",
       "               Registration/plates     58\n",
       "               Seat belt               10\n",
       "               Speeding               130\n",
       "M              Equipment              602\n",
       "               Moving violation       796\n",
       "               Other                  171\n",
       "               Registration/plates    288\n",
       "               Seat belt               80\n",
       "               Speeding               914\n",
       "Name: search_conducted, dtype: int64"
      ]
     },
     "execution_count": 27,
     "metadata": {},
     "output_type": "execute_result"
    }
   ],
   "source": [
    "print(Policia[['driver_gender','violation']].value_counts())\n",
    "Policia.groupby(['driver_gender','violation'])['search_conducted'].sum()"
   ]
  },
  {
   "cell_type": "code",
   "execution_count": 28,
   "id": "41130499",
   "metadata": {},
   "outputs": [],
   "source": [
    "#REVISTA\n",
    "data = {'CAUSA' : ['Speeding', 'Moving violation', 'Equipment', 'Registration/plates', 'Seat belt', 'Other'], \n",
    "        \"MASCULINO\" : [ (914/32777)*100, (796/12938)*100, (602/8420)*100, (288/2647)*100, (80/2278)*100, (171/3702)*100], \n",
    "        'FEMININO' : [(130/15646)*100, (129/3286)*100, (100/2501)*100, (58/1056)*100, (10/578)*100, (29/707)*100]}\n",
    "porc = pd.DataFrame(data)"
   ]
  },
  {
   "cell_type": "code",
   "execution_count": 29,
   "id": "2dc7728f",
   "metadata": {},
   "outputs": [
    {
     "data": {
      "text/html": [
       "<div>\n",
       "<style scoped>\n",
       "    .dataframe tbody tr th:only-of-type {\n",
       "        vertical-align: middle;\n",
       "    }\n",
       "\n",
       "    .dataframe tbody tr th {\n",
       "        vertical-align: top;\n",
       "    }\n",
       "\n",
       "    .dataframe thead th {\n",
       "        text-align: right;\n",
       "    }\n",
       "</style>\n",
       "<table border=\"1\" class=\"dataframe\">\n",
       "  <thead>\n",
       "    <tr style=\"text-align: right;\">\n",
       "      <th></th>\n",
       "      <th>MASCULINO</th>\n",
       "      <th>FEMININO</th>\n",
       "    </tr>\n",
       "    <tr>\n",
       "      <th>CAUSA</th>\n",
       "      <th></th>\n",
       "      <th></th>\n",
       "    </tr>\n",
       "  </thead>\n",
       "  <tbody>\n",
       "    <tr>\n",
       "      <th>Speeding</th>\n",
       "      <td>2.789</td>\n",
       "      <td>0.831</td>\n",
       "    </tr>\n",
       "    <tr>\n",
       "      <th>Moving violation</th>\n",
       "      <td>6.152</td>\n",
       "      <td>3.926</td>\n",
       "    </tr>\n",
       "    <tr>\n",
       "      <th>Equipment</th>\n",
       "      <td>7.150</td>\n",
       "      <td>3.998</td>\n",
       "    </tr>\n",
       "    <tr>\n",
       "      <th>Registration/plates</th>\n",
       "      <td>10.880</td>\n",
       "      <td>5.492</td>\n",
       "    </tr>\n",
       "    <tr>\n",
       "      <th>Seat belt</th>\n",
       "      <td>3.512</td>\n",
       "      <td>1.730</td>\n",
       "    </tr>\n",
       "    <tr>\n",
       "      <th>Other</th>\n",
       "      <td>4.619</td>\n",
       "      <td>4.102</td>\n",
       "    </tr>\n",
       "  </tbody>\n",
       "</table>\n",
       "</div>"
      ],
      "text/plain": [
       "                     MASCULINO  FEMININO\n",
       "CAUSA                                   \n",
       "Speeding                 2.789     0.831\n",
       "Moving violation         6.152     3.926\n",
       "Equipment                7.150     3.998\n",
       "Registration/plates     10.880     5.492\n",
       "Seat belt                3.512     1.730\n",
       "Other                    4.619     4.102"
      ]
     },
     "execution_count": 29,
     "metadata": {},
     "output_type": "execute_result"
    }
   ],
   "source": [
    "# Tabela Que Representa A Taxa de Buscas Para Cada Tipo de Infração E Sexo\n",
    "porc.set_index(\"CAUSA\")"
   ]
  },
  {
   "cell_type": "markdown",
   "id": "73ee6ccf",
   "metadata": {},
   "source": [
    "__Tabela que relaciona a taxa de revistas que ocorrem em veiculos baseado no total de cada infração e no sexo do motorista__\n",
    "\n",
    "---\n",
    "__OBS: Dados em Porcentagem__\n",
    "\n",
    "---\n",
    "__De acordo com a filtragem e exploração dos dados vemos que, no geral, veiculos dirigidos pelo sexo masculino são mais revistados do que veiculos dirigidos por pessoas do sexo feminino, porém as revistas ocorrem raras vezes para as infrações do conjunto de dados.__\n",
    "\n",
    "---"
   ]
  },
  {
   "cell_type": "markdown",
   "id": "06fd82ac",
   "metadata": {},
   "source": [
    "## 3. Análise exploratória visual dos dados.\n",
    "\n",
    "_É mais provável que você seja preso em uma determinada hora do dia? As paradas relacionadas\n",
    "às drogas estão aumentando? Nesta parte, você responderá a essas e outras questões analisando o conjunto de dados visualmente, uma vez que os gráficos podem ajudá-lo a entender\n",
    "as tendências de uma forma que o exame dos dados brutos não pode._\n",
    "\n",
    "---"
   ]
  },
  {
   "cell_type": "code",
   "execution_count": 30,
   "id": "8035e80d",
   "metadata": {},
   "outputs": [
    {
     "data": {
      "text/plain": [
       "0.0355690117407784"
      ]
     },
     "execution_count": 30,
     "metadata": {},
     "output_type": "execute_result"
    }
   ],
   "source": [
    "# Média De Apreensões\n",
    "(Policia['is_arrested']==True).mean()"
   ]
  },
  {
   "cell_type": "code",
   "execution_count": 31,
   "id": "8f28ba17",
   "metadata": {},
   "outputs": [
    {
     "name": "stdout",
     "output_type": "stream",
     "text": [
      "soma:  3078\n"
     ]
    },
    {
     "data": {
      "text/plain": [
       "stop_datetime\n",
       "0     0.081\n",
       "1     0.085\n",
       "2     0.053\n",
       "3     0.021\n",
       "4     0.004\n",
       "5     0.003\n",
       "6     0.014\n",
       "7     0.019\n",
       "8     0.035\n",
       "9     0.053\n",
       "10    0.065\n",
       "11    0.054\n",
       "12    0.042\n",
       "13    0.045\n",
       "14    0.053\n",
       "15    0.047\n",
       "16    0.041\n",
       "17    0.034\n",
       "18    0.026\n",
       "19    0.026\n",
       "20    0.039\n",
       "21    0.028\n",
       "22    0.054\n",
       "23    0.080\n",
       "Name: is_arrested, dtype: float64"
      ]
     },
     "execution_count": 31,
     "metadata": {},
     "output_type": "execute_result"
    }
   ],
   "source": [
    "# Calculando a Taxa de Apreensões Por Hora\n",
    "agrupamento = Policia.groupby(Policia['stop_datetime'].dt.hour)['is_arrested'].sum()\n",
    "print('soma: ',agrupamento.sum())\n",
    "hourly_arrest_rate = agrupamento/3078\n",
    "hourly_arrest_rate"
   ]
  },
  {
   "cell_type": "code",
   "execution_count": 32,
   "id": "0b4f6439",
   "metadata": {},
   "outputs": [
    {
     "data": {
      "text/plain": [
       "<AxesSubplot:title={'center':'Taxa de Prisões por Hora do Dia'}, xlabel='Horas', ylabel='Taxa de Prisões'>"
      ]
     },
     "execution_count": 32,
     "metadata": {},
     "output_type": "execute_result"
    },
    {
     "data": {
      "image/png": "[encoded data removed]",
      "text/plain": [
       "<Figure size 432x288 with 1 Axes>"
      ]
     },
     "metadata": {
      "needs_background": "light"
     },
     "output_type": "display_data"
    }
   ],
   "source": [
    "# Criando Ggráfico de Linhas.\n",
    "hourly_arrest_rate.plot.line(title = 'Taxa de Prisões por Hora do Dia', xlabel = 'Horas', ylabel = 'Taxa de Prisões')"
   ]
  },
  {
   "cell_type": "code",
   "execution_count": 33,
   "id": "8171ab86",
   "metadata": {},
   "outputs": [
    {
     "data": {
      "text/plain": [
       "<AxesSubplot:xlabel='Anos', ylabel='Drogas Encontradas em Paradas'>"
      ]
     },
     "execution_count": 33,
     "metadata": {},
     "output_type": "execute_result"
    },
    {
     "data": {
      "image/png": "[encoded data removed]",
      "text/plain": [
       "<Figure size 432x288 with 1 Axes>"
      ]
     },
     "metadata": {
      "needs_background": "light"
     },
     "output_type": "display_data"
    }
   ],
   "source": [
    "# Calculando a Taxa Anual de Apreensões De Drogas\n",
    "Annual_drug_rate = Policia.groupby(Policia['stop_datetime'].dt.year)['drugs_related_stop'].sum()\n",
    "soma = Annual_drug_rate.sum()\n",
    "Annual_drug_rate/=soma\n",
    "\n",
    "# Criando Ggráfico de Linhas.\n",
    "Annual_drug_rate.plot.line(xlabel = 'Anos', ylabel = 'Drogas Encontradas em Paradas')"
   ]
  },
  {
   "cell_type": "code",
   "execution_count": 34,
   "id": "9611b687",
   "metadata": {},
   "outputs": [],
   "source": [
    "# Calculando a Taxa Anual de Buscas\n",
    "Annual_search_rate = Policia.groupby(Policia['stop_datetime'].dt.year)['search_conducted'].sum()\n",
    "soma = Annual_search_rate.sum()\n",
    "Annual_search_rate/=soma"
   ]
  },
  {
   "cell_type": "code",
   "execution_count": 35,
   "id": "6af31926",
   "metadata": {},
   "outputs": [
    {
     "data": {
      "text/html": [
       "<div>\n",
       "<style scoped>\n",
       "    .dataframe tbody tr th:only-of-type {\n",
       "        vertical-align: middle;\n",
       "    }\n",
       "\n",
       "    .dataframe tbody tr th {\n",
       "        vertical-align: top;\n",
       "    }\n",
       "\n",
       "    .dataframe thead th {\n",
       "        text-align: right;\n",
       "    }\n",
       "</style>\n",
       "<table border=\"1\" class=\"dataframe\">\n",
       "  <thead>\n",
       "    <tr style=\"text-align: right;\">\n",
       "      <th></th>\n",
       "      <th>PARADAS COM ENVOLVIMENTO DE DROGAS</th>\n",
       "      <th>BUSCAS REALIZADAS</th>\n",
       "    </tr>\n",
       "    <tr>\n",
       "      <th>ANOS</th>\n",
       "      <th></th>\n",
       "      <th></th>\n",
       "    </tr>\n",
       "  </thead>\n",
       "  <tbody>\n",
       "    <tr>\n",
       "      <th>2005</th>\n",
       "      <td>0.019</td>\n",
       "      <td>0.037</td>\n",
       "    </tr>\n",
       "    <tr>\n",
       "      <th>2006</th>\n",
       "      <td>0.085</td>\n",
       "      <td>0.127</td>\n",
       "    </tr>\n",
       "    <tr>\n",
       "      <th>2007</th>\n",
       "      <td>0.084</td>\n",
       "      <td>0.120</td>\n",
       "    </tr>\n",
       "    <tr>\n",
       "      <th>2008</th>\n",
       "      <td>0.072</td>\n",
       "      <td>0.101</td>\n",
       "    </tr>\n",
       "    <tr>\n",
       "      <th>2009</th>\n",
       "      <td>0.082</td>\n",
       "      <td>0.108</td>\n",
       "    </tr>\n",
       "    <tr>\n",
       "      <th>2010</th>\n",
       "      <td>0.084</td>\n",
       "      <td>0.097</td>\n",
       "    </tr>\n",
       "    <tr>\n",
       "      <th>2011</th>\n",
       "      <td>0.087</td>\n",
       "      <td>0.083</td>\n",
       "    </tr>\n",
       "    <tr>\n",
       "      <th>2012</th>\n",
       "      <td>0.119</td>\n",
       "      <td>0.106</td>\n",
       "    </tr>\n",
       "    <tr>\n",
       "      <th>2013</th>\n",
       "      <td>0.115</td>\n",
       "      <td>0.069</td>\n",
       "    </tr>\n",
       "    <tr>\n",
       "      <th>2014</th>\n",
       "      <td>0.139</td>\n",
       "      <td>0.083</td>\n",
       "    </tr>\n",
       "    <tr>\n",
       "      <th>2015</th>\n",
       "      <td>0.115</td>\n",
       "      <td>0.070</td>\n",
       "    </tr>\n",
       "  </tbody>\n",
       "</table>\n",
       "</div>"
      ],
      "text/plain": [
       "      PARADAS COM ENVOLVIMENTO DE DROGAS  BUSCAS REALIZADAS\n",
       "ANOS                                                       \n",
       "2005                               0.019              0.037\n",
       "2006                               0.085              0.127\n",
       "2007                               0.084              0.120\n",
       "2008                               0.072              0.101\n",
       "2009                               0.082              0.108\n",
       "2010                               0.084              0.097\n",
       "2011                               0.087              0.083\n",
       "2012                               0.119              0.106\n",
       "2013                               0.115              0.069\n",
       "2014                               0.139              0.083\n",
       "2015                               0.115              0.070"
      ]
     },
     "execution_count": 35,
     "metadata": {},
     "output_type": "execute_result"
    }
   ],
   "source": [
    "# Criando um Data Frame Para Expor Estas Taxas\n",
    "anual = pd.concat([Annual_drug_rate,Annual_search_rate], axis = 1)\n",
    "anual.columns = ['PARADAS COM ENVOLVIMENTO DE DROGAS', 'BUSCAS REALIZADAS']\n",
    "anual.index.name = 'ANOS'\n",
    "anual"
   ]
  },
  {
   "cell_type": "code",
   "execution_count": 36,
   "id": "ba9b033c",
   "metadata": {},
   "outputs": [
    {
     "data": {
      "text/plain": [
       "<AxesSubplot:xlabel='Anos', ylabel='Numero absoluto de buscas e de encontro de drogas'>"
      ]
     },
     "execution_count": 36,
     "metadata": {},
     "output_type": "execute_result"
    },
    {
     "data": {
      "image/png": "[encoded data removed]",
      "text/plain": [
       "<Figure size 432x288 with 1 Axes>"
      ]
     },
     "metadata": {
      "needs_background": "light"
     },
     "output_type": "display_data"
    }
   ],
   "source": [
    "# Criando Ggráfico de Linhas\n",
    "anual.plot.line(xlabel = 'Anos', ylabel = 'Numero absoluto de buscas e de encontro de drogas')"
   ]
  },
  {
   "cell_type": "code",
   "execution_count": 37,
   "id": "6eac6404",
   "metadata": {
    "scrolled": false
   },
   "outputs": [
    {
     "data": {
      "text/plain": [
       "district  violation          \n",
       "Zone K1   Equipment                672\n",
       "          Moving violation        1254\n",
       "          Other                    290\n",
       "          Registration/plates      120\n",
       "          Speeding                5960\n",
       "Zone K2   Equipment               2061\n",
       "          Moving violation        2962\n",
       "          Other                    942\n",
       "          Registration/plates      768\n",
       "          Seat belt                481\n",
       "          Speeding               10448\n",
       "Zone K3   Equipment               2302\n",
       "          Moving violation        2898\n",
       "          Other                    705\n",
       "          Registration/plates      695\n",
       "          Seat belt                638\n",
       "          Speeding               12322\n",
       "Zone X1   Equipment                296\n",
       "          Moving violation         671\n",
       "          Other                    143\n",
       "          Registration/plates       38\n",
       "          Seat belt                 74\n",
       "          Speeding                1119\n",
       "Zone X3   Equipment               2049\n",
       "          Moving violation        3086\n",
       "          Other                    769\n",
       "          Registration/plates      671\n",
       "          Seat belt                820\n",
       "          Speeding                8779\n",
       "Zone X4   Equipment               3541\n",
       "          Moving violation        5353\n",
       "          Other                   1560\n",
       "          Registration/plates     1411\n",
       "          Seat belt                843\n",
       "          Speeding                9795\n",
       "Name: driver_gender, dtype: int64"
      ]
     },
     "execution_count": 37,
     "metadata": {},
     "output_type": "execute_result"
    }
   ],
   "source": [
    "# Contando Quantas Violações Ocorreram em cada Distrito\n",
    "Policia.groupby(['district','violation'])['driver_gender'].count()"
   ]
  },
  {
   "cell_type": "code",
   "execution_count": 38,
   "id": "152edab1",
   "metadata": {},
   "outputs": [
    {
     "data": {
      "text/html": [
       "<div>\n",
       "<style scoped>\n",
       "    .dataframe tbody tr th:only-of-type {\n",
       "        vertical-align: middle;\n",
       "    }\n",
       "\n",
       "    .dataframe tbody tr th {\n",
       "        vertical-align: top;\n",
       "    }\n",
       "\n",
       "    .dataframe thead th {\n",
       "        text-align: right;\n",
       "    }\n",
       "</style>\n",
       "<table border=\"1\" class=\"dataframe\">\n",
       "  <thead>\n",
       "    <tr style=\"text-align: right;\">\n",
       "      <th></th>\n",
       "      <th>CAUSA</th>\n",
       "      <th>Zone K1</th>\n",
       "      <th>Zone K2</th>\n",
       "      <th>Zone K3</th>\n",
       "      <th>Zone X1</th>\n",
       "      <th>Zone X3</th>\n",
       "      <th>Zone X4</th>\n",
       "    </tr>\n",
       "  </thead>\n",
       "  <tbody>\n",
       "    <tr>\n",
       "      <th>0</th>\n",
       "      <td>Speeding</td>\n",
       "      <td>0.718</td>\n",
       "      <td>0.592</td>\n",
       "      <td>0.651</td>\n",
       "      <td>0.478</td>\n",
       "      <td>0.543</td>\n",
       "      <td>0.435</td>\n",
       "    </tr>\n",
       "    <tr>\n",
       "      <th>1</th>\n",
       "      <td>Moving violation</td>\n",
       "      <td>0.151</td>\n",
       "      <td>0.168</td>\n",
       "      <td>0.153</td>\n",
       "      <td>0.287</td>\n",
       "      <td>0.191</td>\n",
       "      <td>0.238</td>\n",
       "    </tr>\n",
       "    <tr>\n",
       "      <th>2</th>\n",
       "      <td>Equipment</td>\n",
       "      <td>0.081</td>\n",
       "      <td>0.117</td>\n",
       "      <td>0.122</td>\n",
       "      <td>0.126</td>\n",
       "      <td>0.127</td>\n",
       "      <td>0.157</td>\n",
       "    </tr>\n",
       "    <tr>\n",
       "      <th>3</th>\n",
       "      <td>Registration/plates</td>\n",
       "      <td>0.014</td>\n",
       "      <td>0.044</td>\n",
       "      <td>0.037</td>\n",
       "      <td>0.016</td>\n",
       "      <td>0.041</td>\n",
       "      <td>0.063</td>\n",
       "    </tr>\n",
       "    <tr>\n",
       "      <th>4</th>\n",
       "      <td>Seat belt</td>\n",
       "      <td>0.000</td>\n",
       "      <td>0.027</td>\n",
       "      <td>0.034</td>\n",
       "      <td>0.032</td>\n",
       "      <td>0.051</td>\n",
       "      <td>0.037</td>\n",
       "    </tr>\n",
       "    <tr>\n",
       "      <th>5</th>\n",
       "      <td>Other</td>\n",
       "      <td>0.035</td>\n",
       "      <td>0.052</td>\n",
       "      <td>0.037</td>\n",
       "      <td>0.061</td>\n",
       "      <td>0.048</td>\n",
       "      <td>0.069</td>\n",
       "    </tr>\n",
       "    <tr>\n",
       "      <th>6</th>\n",
       "      <td>Total</td>\n",
       "      <td>1.000</td>\n",
       "      <td>1.000</td>\n",
       "      <td>1.000</td>\n",
       "      <td>1.000</td>\n",
       "      <td>1.000</td>\n",
       "      <td>1.000</td>\n",
       "    </tr>\n",
       "  </tbody>\n",
       "</table>\n",
       "</div>"
      ],
      "text/plain": [
       "                 CAUSA  Zone K1  Zone K2  Zone K3  Zone X1  Zone X3  Zone X4\n",
       "0             Speeding    0.718    0.592    0.651    0.478    0.543    0.435\n",
       "1     Moving violation    0.151    0.168    0.153    0.287    0.191    0.238\n",
       "2            Equipment    0.081    0.117    0.122    0.126    0.127    0.157\n",
       "3  Registration/plates    0.014    0.044    0.037    0.016    0.041    0.063\n",
       "4            Seat belt    0.000    0.027    0.034    0.032    0.051    0.037\n",
       "5                Other    0.035    0.052    0.037    0.061    0.048    0.069\n",
       "6                Total    1.000    1.000    1.000    1.000    1.000    1.000"
      ]
     },
     "execution_count": 38,
     "metadata": {},
     "output_type": "execute_result"
    }
   ],
   "source": [
    "# Criando um DataFrame Para Representar as Violações em Cada Distrito \n",
    "dic = {'CAUSA' : ['Speeding', 'Moving violation', 'Equipment', 'Registration/plates', 'Seat belt', 'Other', 'Total'], \n",
    "       'Zone K1': [5960/8296, 1254/8296, 672/8296, 120/8296, 0/8296, 290/8296, 8296/8296], \n",
    "       'Zone K2' : [10448/17644, 2962/17644, 2061/17644, 768/17644, 481/17644, 924/17644, 17644/17644], \n",
    "      'Zone K3' : [12322/18922, 2898/18922, 2302/18922, 695/18922, 638/18922, 705/18922, 18922/18922], \n",
    "      'Zone X1' : [1119/2341, 671/2341, 296/2341, 38/2341, 74/2341, 143/2341, 2341/2341], \n",
    "      'Zone X3' : [8779/16174, 3086/16174, 2049/16174, 671/16174, 820/16174, 769/16174, 16174/16174], \n",
    "      'Zone X4' : [9795/22503, 5353/22503, 3541/22503, 1411/22503, 843/22503, 1560/22503, 22503/22503]}\n",
    "Distritos = pd.DataFrame(dic)\n",
    "Distritos"
   ]
  },
  {
   "cell_type": "code",
   "execution_count": 39,
   "id": "5ab9a7d5",
   "metadata": {
    "scrolled": true
   },
   "outputs": [
    {
     "data": {
      "text/plain": [
       "<AxesSubplot:xlabel='Causas: 6 - Total / 5 - Other / 4 - Seat Belt / 3 - Registrantion/Plates / 2 - Equipment / 1 - Moving Violation / 0 - Speeding ', ylabel='Infrações'>"
      ]
     },
     "execution_count": 39,
     "metadata": {},
     "output_type": "execute_result"
    },
    {
     "data": {
      "image/png": "[encoded data removed]",
      "text/plain": [
       "<Figure size 432x288 with 1 Axes>"
      ]
     },
     "metadata": {
      "needs_background": "light"
     },
     "output_type": "display_data"
    }
   ],
   "source": [
    "# Criando um Gráfico de Barras Agrupadas\n",
    "Distritos[['Zone K1', 'Zone K2', 'Zone K3']]. plot.bar(ylabel = 'Infrações', \n",
    "                                                xlabel = 'Causas: 6 - Total / 5 - Other / 4 - Seat Belt / 3 - Registrantion/Plates / 2 - Equipment / 1 - Moving Violation / 0 - Speeding ')"
   ]
  },
  {
   "cell_type": "markdown",
   "id": "fe97324e",
   "metadata": {},
   "source": [
    "## 4. Analisando o efeito do clima no policiamento.\n",
    "\n",
    "_Nesta última parte, você usará um segundo conjunto de dados, weather.csv, para explorar\n",
    "o impacto das condições meteorológicas no comportamento da polícia durante as paradas de\n",
    "trânsito. Você vai praticar mesclar e remodelar conjuntos de dados, avaliando se uma fonte de\n",
    "dados é confiável, trabalhando com dados categóricos e outras habilidades avançadas._\n",
    "\n",
    "---"
   ]
  },
  {
   "cell_type": "code",
   "execution_count": 40,
   "id": "7d7e3eee",
   "metadata": {},
   "outputs": [
    {
     "data": {
      "text/html": [
       "<div>\n",
       "<style scoped>\n",
       "    .dataframe tbody tr th:only-of-type {\n",
       "        vertical-align: middle;\n",
       "    }\n",
       "\n",
       "    .dataframe tbody tr th {\n",
       "        vertical-align: top;\n",
       "    }\n",
       "\n",
       "    .dataframe thead th {\n",
       "        text-align: right;\n",
       "    }\n",
       "</style>\n",
       "<table border=\"1\" class=\"dataframe\">\n",
       "  <thead>\n",
       "    <tr style=\"text-align: right;\">\n",
       "      <th></th>\n",
       "      <th>STATION</th>\n",
       "      <th>DATE</th>\n",
       "      <th>TAVG</th>\n",
       "      <th>TMIN</th>\n",
       "      <th>TMAX</th>\n",
       "      <th>AWND</th>\n",
       "      <th>WSF2</th>\n",
       "      <th>WT01</th>\n",
       "      <th>WT02</th>\n",
       "      <th>WT03</th>\n",
       "      <th>...</th>\n",
       "      <th>WT11</th>\n",
       "      <th>WT13</th>\n",
       "      <th>WT14</th>\n",
       "      <th>WT15</th>\n",
       "      <th>WT16</th>\n",
       "      <th>WT17</th>\n",
       "      <th>WT18</th>\n",
       "      <th>WT19</th>\n",
       "      <th>WT21</th>\n",
       "      <th>WT22</th>\n",
       "    </tr>\n",
       "  </thead>\n",
       "  <tbody>\n",
       "    <tr>\n",
       "      <th>0</th>\n",
       "      <td>USW00014765</td>\n",
       "      <td>2005-01-01</td>\n",
       "      <td>44.0</td>\n",
       "      <td>35</td>\n",
       "      <td>53</td>\n",
       "      <td>8.95</td>\n",
       "      <td>25.1</td>\n",
       "      <td>1.0</td>\n",
       "      <td>NaN</td>\n",
       "      <td>NaN</td>\n",
       "      <td>...</td>\n",
       "      <td>NaN</td>\n",
       "      <td>1.0</td>\n",
       "      <td>NaN</td>\n",
       "      <td>NaN</td>\n",
       "      <td>NaN</td>\n",
       "      <td>NaN</td>\n",
       "      <td>NaN</td>\n",
       "      <td>NaN</td>\n",
       "      <td>NaN</td>\n",
       "      <td>NaN</td>\n",
       "    </tr>\n",
       "    <tr>\n",
       "      <th>1</th>\n",
       "      <td>USW00014765</td>\n",
       "      <td>2005-01-02</td>\n",
       "      <td>36.0</td>\n",
       "      <td>28</td>\n",
       "      <td>44</td>\n",
       "      <td>9.40</td>\n",
       "      <td>14.1</td>\n",
       "      <td>NaN</td>\n",
       "      <td>NaN</td>\n",
       "      <td>NaN</td>\n",
       "      <td>...</td>\n",
       "      <td>NaN</td>\n",
       "      <td>NaN</td>\n",
       "      <td>NaN</td>\n",
       "      <td>NaN</td>\n",
       "      <td>1.0</td>\n",
       "      <td>NaN</td>\n",
       "      <td>1.0</td>\n",
       "      <td>NaN</td>\n",
       "      <td>NaN</td>\n",
       "      <td>NaN</td>\n",
       "    </tr>\n",
       "    <tr>\n",
       "      <th>2</th>\n",
       "      <td>USW00014765</td>\n",
       "      <td>2005-01-03</td>\n",
       "      <td>49.0</td>\n",
       "      <td>44</td>\n",
       "      <td>53</td>\n",
       "      <td>6.93</td>\n",
       "      <td>17.0</td>\n",
       "      <td>1.0</td>\n",
       "      <td>NaN</td>\n",
       "      <td>NaN</td>\n",
       "      <td>...</td>\n",
       "      <td>NaN</td>\n",
       "      <td>1.0</td>\n",
       "      <td>NaN</td>\n",
       "      <td>NaN</td>\n",
       "      <td>1.0</td>\n",
       "      <td>NaN</td>\n",
       "      <td>NaN</td>\n",
       "      <td>NaN</td>\n",
       "      <td>NaN</td>\n",
       "      <td>NaN</td>\n",
       "    </tr>\n",
       "    <tr>\n",
       "      <th>3</th>\n",
       "      <td>USW00014765</td>\n",
       "      <td>2005-01-04</td>\n",
       "      <td>42.0</td>\n",
       "      <td>39</td>\n",
       "      <td>45</td>\n",
       "      <td>6.93</td>\n",
       "      <td>16.1</td>\n",
       "      <td>1.0</td>\n",
       "      <td>NaN</td>\n",
       "      <td>NaN</td>\n",
       "      <td>...</td>\n",
       "      <td>NaN</td>\n",
       "      <td>1.0</td>\n",
       "      <td>1.0</td>\n",
       "      <td>NaN</td>\n",
       "      <td>1.0</td>\n",
       "      <td>NaN</td>\n",
       "      <td>NaN</td>\n",
       "      <td>NaN</td>\n",
       "      <td>NaN</td>\n",
       "      <td>NaN</td>\n",
       "    </tr>\n",
       "    <tr>\n",
       "      <th>4</th>\n",
       "      <td>USW00014765</td>\n",
       "      <td>2005-01-05</td>\n",
       "      <td>36.0</td>\n",
       "      <td>28</td>\n",
       "      <td>43</td>\n",
       "      <td>7.83</td>\n",
       "      <td>17.0</td>\n",
       "      <td>1.0</td>\n",
       "      <td>NaN</td>\n",
       "      <td>NaN</td>\n",
       "      <td>...</td>\n",
       "      <td>NaN</td>\n",
       "      <td>1.0</td>\n",
       "      <td>NaN</td>\n",
       "      <td>NaN</td>\n",
       "      <td>1.0</td>\n",
       "      <td>NaN</td>\n",
       "      <td>1.0</td>\n",
       "      <td>NaN</td>\n",
       "      <td>NaN</td>\n",
       "      <td>NaN</td>\n",
       "    </tr>\n",
       "    <tr>\n",
       "      <th>...</th>\n",
       "      <td>...</td>\n",
       "      <td>...</td>\n",
       "      <td>...</td>\n",
       "      <td>...</td>\n",
       "      <td>...</td>\n",
       "      <td>...</td>\n",
       "      <td>...</td>\n",
       "      <td>...</td>\n",
       "      <td>...</td>\n",
       "      <td>...</td>\n",
       "      <td>...</td>\n",
       "      <td>...</td>\n",
       "      <td>...</td>\n",
       "      <td>...</td>\n",
       "      <td>...</td>\n",
       "      <td>...</td>\n",
       "      <td>...</td>\n",
       "      <td>...</td>\n",
       "      <td>...</td>\n",
       "      <td>...</td>\n",
       "      <td>...</td>\n",
       "    </tr>\n",
       "    <tr>\n",
       "      <th>4012</th>\n",
       "      <td>USW00014765</td>\n",
       "      <td>2015-12-27</td>\n",
       "      <td>51.0</td>\n",
       "      <td>44</td>\n",
       "      <td>61</td>\n",
       "      <td>9.17</td>\n",
       "      <td>28.0</td>\n",
       "      <td>1.0</td>\n",
       "      <td>NaN</td>\n",
       "      <td>NaN</td>\n",
       "      <td>...</td>\n",
       "      <td>NaN</td>\n",
       "      <td>NaN</td>\n",
       "      <td>NaN</td>\n",
       "      <td>NaN</td>\n",
       "      <td>NaN</td>\n",
       "      <td>NaN</td>\n",
       "      <td>NaN</td>\n",
       "      <td>NaN</td>\n",
       "      <td>NaN</td>\n",
       "      <td>NaN</td>\n",
       "    </tr>\n",
       "    <tr>\n",
       "      <th>4013</th>\n",
       "      <td>USW00014765</td>\n",
       "      <td>2015-12-28</td>\n",
       "      <td>40.0</td>\n",
       "      <td>30</td>\n",
       "      <td>44</td>\n",
       "      <td>12.30</td>\n",
       "      <td>23.0</td>\n",
       "      <td>NaN</td>\n",
       "      <td>NaN</td>\n",
       "      <td>NaN</td>\n",
       "      <td>...</td>\n",
       "      <td>NaN</td>\n",
       "      <td>NaN</td>\n",
       "      <td>NaN</td>\n",
       "      <td>NaN</td>\n",
       "      <td>NaN</td>\n",
       "      <td>NaN</td>\n",
       "      <td>NaN</td>\n",
       "      <td>NaN</td>\n",
       "      <td>NaN</td>\n",
       "      <td>NaN</td>\n",
       "    </tr>\n",
       "    <tr>\n",
       "      <th>4014</th>\n",
       "      <td>USW00014765</td>\n",
       "      <td>2015-12-29</td>\n",
       "      <td>33.0</td>\n",
       "      <td>28</td>\n",
       "      <td>40</td>\n",
       "      <td>12.53</td>\n",
       "      <td>18.1</td>\n",
       "      <td>1.0</td>\n",
       "      <td>NaN</td>\n",
       "      <td>NaN</td>\n",
       "      <td>...</td>\n",
       "      <td>NaN</td>\n",
       "      <td>NaN</td>\n",
       "      <td>NaN</td>\n",
       "      <td>NaN</td>\n",
       "      <td>NaN</td>\n",
       "      <td>NaN</td>\n",
       "      <td>NaN</td>\n",
       "      <td>NaN</td>\n",
       "      <td>NaN</td>\n",
       "      <td>NaN</td>\n",
       "    </tr>\n",
       "    <tr>\n",
       "      <th>4015</th>\n",
       "      <td>USW00014765</td>\n",
       "      <td>2015-12-30</td>\n",
       "      <td>30.0</td>\n",
       "      <td>27</td>\n",
       "      <td>35</td>\n",
       "      <td>6.93</td>\n",
       "      <td>15.0</td>\n",
       "      <td>1.0</td>\n",
       "      <td>NaN</td>\n",
       "      <td>NaN</td>\n",
       "      <td>...</td>\n",
       "      <td>NaN</td>\n",
       "      <td>NaN</td>\n",
       "      <td>NaN</td>\n",
       "      <td>NaN</td>\n",
       "      <td>NaN</td>\n",
       "      <td>NaN</td>\n",
       "      <td>NaN</td>\n",
       "      <td>NaN</td>\n",
       "      <td>NaN</td>\n",
       "      <td>NaN</td>\n",
       "    </tr>\n",
       "    <tr>\n",
       "      <th>4016</th>\n",
       "      <td>USW00014765</td>\n",
       "      <td>2015-12-31</td>\n",
       "      <td>39.0</td>\n",
       "      <td>35</td>\n",
       "      <td>50</td>\n",
       "      <td>8.05</td>\n",
       "      <td>18.1</td>\n",
       "      <td>1.0</td>\n",
       "      <td>NaN</td>\n",
       "      <td>NaN</td>\n",
       "      <td>...</td>\n",
       "      <td>NaN</td>\n",
       "      <td>NaN</td>\n",
       "      <td>NaN</td>\n",
       "      <td>NaN</td>\n",
       "      <td>NaN</td>\n",
       "      <td>NaN</td>\n",
       "      <td>NaN</td>\n",
       "      <td>NaN</td>\n",
       "      <td>NaN</td>\n",
       "      <td>NaN</td>\n",
       "    </tr>\n",
       "  </tbody>\n",
       "</table>\n",
       "<p>4017 rows × 27 columns</p>\n",
       "</div>"
      ],
      "text/plain": [
       "          STATION        DATE  TAVG  TMIN  TMAX   AWND  WSF2  WT01  WT02  \\\n",
       "0     USW00014765  2005-01-01  44.0    35    53   8.95  25.1   1.0   NaN   \n",
       "1     USW00014765  2005-01-02  36.0    28    44   9.40  14.1   NaN   NaN   \n",
       "2     USW00014765  2005-01-03  49.0    44    53   6.93  17.0   1.0   NaN   \n",
       "3     USW00014765  2005-01-04  42.0    39    45   6.93  16.1   1.0   NaN   \n",
       "4     USW00014765  2005-01-05  36.0    28    43   7.83  17.0   1.0   NaN   \n",
       "...           ...         ...   ...   ...   ...    ...   ...   ...   ...   \n",
       "4012  USW00014765  2015-12-27  51.0    44    61   9.17  28.0   1.0   NaN   \n",
       "4013  USW00014765  2015-12-28  40.0    30    44  12.30  23.0   NaN   NaN   \n",
       "4014  USW00014765  2015-12-29  33.0    28    40  12.53  18.1   1.0   NaN   \n",
       "4015  USW00014765  2015-12-30  30.0    27    35   6.93  15.0   1.0   NaN   \n",
       "4016  USW00014765  2015-12-31  39.0    35    50   8.05  18.1   1.0   NaN   \n",
       "\n",
       "      WT03  ...  WT11  WT13  WT14  WT15  WT16  WT17  WT18  WT19  WT21  WT22  \n",
       "0      NaN  ...   NaN   1.0   NaN   NaN   NaN   NaN   NaN   NaN   NaN   NaN  \n",
       "1      NaN  ...   NaN   NaN   NaN   NaN   1.0   NaN   1.0   NaN   NaN   NaN  \n",
       "2      NaN  ...   NaN   1.0   NaN   NaN   1.0   NaN   NaN   NaN   NaN   NaN  \n",
       "3      NaN  ...   NaN   1.0   1.0   NaN   1.0   NaN   NaN   NaN   NaN   NaN  \n",
       "4      NaN  ...   NaN   1.0   NaN   NaN   1.0   NaN   1.0   NaN   NaN   NaN  \n",
       "...    ...  ...   ...   ...   ...   ...   ...   ...   ...   ...   ...   ...  \n",
       "4012   NaN  ...   NaN   NaN   NaN   NaN   NaN   NaN   NaN   NaN   NaN   NaN  \n",
       "4013   NaN  ...   NaN   NaN   NaN   NaN   NaN   NaN   NaN   NaN   NaN   NaN  \n",
       "4014   NaN  ...   NaN   NaN   NaN   NaN   NaN   NaN   NaN   NaN   NaN   NaN  \n",
       "4015   NaN  ...   NaN   NaN   NaN   NaN   NaN   NaN   NaN   NaN   NaN   NaN  \n",
       "4016   NaN  ...   NaN   NaN   NaN   NaN   NaN   NaN   NaN   NaN   NaN   NaN  \n",
       "\n",
       "[4017 rows x 27 columns]"
      ]
     },
     "execution_count": 40,
     "metadata": {},
     "output_type": "execute_result"
    }
   ],
   "source": [
    "weather"
   ]
  },
  {
   "cell_type": "code",
   "execution_count": 41,
   "id": "589c8611",
   "metadata": {},
   "outputs": [
    {
     "data": {
      "text/html": [
       "<div>\n",
       "<style scoped>\n",
       "    .dataframe tbody tr th:only-of-type {\n",
       "        vertical-align: middle;\n",
       "    }\n",
       "\n",
       "    .dataframe tbody tr th {\n",
       "        vertical-align: top;\n",
       "    }\n",
       "\n",
       "    .dataframe thead th {\n",
       "        text-align: right;\n",
       "    }\n",
       "</style>\n",
       "<table border=\"1\" class=\"dataframe\">\n",
       "  <thead>\n",
       "    <tr style=\"text-align: right;\">\n",
       "      <th></th>\n",
       "      <th>TMIN</th>\n",
       "      <th>TAVG</th>\n",
       "      <th>TMAX</th>\n",
       "    </tr>\n",
       "  </thead>\n",
       "  <tbody>\n",
       "    <tr>\n",
       "      <th>count</th>\n",
       "      <td>4017.000</td>\n",
       "      <td>1217.000</td>\n",
       "      <td>4017.000</td>\n",
       "    </tr>\n",
       "    <tr>\n",
       "      <th>mean</th>\n",
       "      <td>43.484</td>\n",
       "      <td>52.493</td>\n",
       "      <td>61.269</td>\n",
       "    </tr>\n",
       "    <tr>\n",
       "      <th>std</th>\n",
       "      <td>17.020</td>\n",
       "      <td>17.831</td>\n",
       "      <td>18.200</td>\n",
       "    </tr>\n",
       "    <tr>\n",
       "      <th>min</th>\n",
       "      <td>-5.000</td>\n",
       "      <td>6.000</td>\n",
       "      <td>15.000</td>\n",
       "    </tr>\n",
       "    <tr>\n",
       "      <th>25%</th>\n",
       "      <td>30.000</td>\n",
       "      <td>39.000</td>\n",
       "      <td>47.000</td>\n",
       "    </tr>\n",
       "    <tr>\n",
       "      <th>50%</th>\n",
       "      <td>44.000</td>\n",
       "      <td>54.000</td>\n",
       "      <td>62.000</td>\n",
       "    </tr>\n",
       "    <tr>\n",
       "      <th>75%</th>\n",
       "      <td>58.000</td>\n",
       "      <td>68.000</td>\n",
       "      <td>77.000</td>\n",
       "    </tr>\n",
       "    <tr>\n",
       "      <th>max</th>\n",
       "      <td>77.000</td>\n",
       "      <td>86.000</td>\n",
       "      <td>102.000</td>\n",
       "    </tr>\n",
       "  </tbody>\n",
       "</table>\n",
       "</div>"
      ],
      "text/plain": [
       "           TMIN      TAVG      TMAX\n",
       "count  4017.000  1217.000  4017.000\n",
       "mean     43.484    52.493    61.269\n",
       "std      17.020    17.831    18.200\n",
       "min      -5.000     6.000    15.000\n",
       "25%      30.000    39.000    47.000\n",
       "50%      44.000    54.000    62.000\n",
       "75%      58.000    68.000    77.000\n",
       "max      77.000    86.000   102.000"
      ]
     },
     "execution_count": 41,
     "metadata": {},
     "output_type": "execute_result"
    }
   ],
   "source": [
    "# Descrevendo As Variáveis\n",
    "a = weather[['TMIN', 'TAVG', 'TMAX']]\n",
    "a.describe()"
   ]
  },
  {
   "cell_type": "markdown",
   "id": "d22c7b0b",
   "metadata": {},
   "source": [
    "__Podemos afirmar que é uma região com oscilação média de 6 ºC até 16 ºC, e que é um conjunto de dados aparentemente confiável, pois os seus quartis provam que a média é representativa do conjunto de dados.__\n",
    "\n",
    "----"
   ]
  },
  {
   "cell_type": "code",
   "execution_count": 42,
   "id": "dd3ce809",
   "metadata": {},
   "outputs": [
    {
     "data": {
      "text/plain": [
       "<AxesSubplot:>"
      ]
     },
     "execution_count": 42,
     "metadata": {},
     "output_type": "execute_result"
    },
    {
     "data": {
      "image/png": "[encoded data removed]",
      "text/plain": [
       "<Figure size 432x288 with 1 Axes>"
      ]
     },
     "metadata": {
      "needs_background": "light"
     },
     "output_type": "display_data"
    }
   ],
   "source": [
    "# Criando Boxplot das Variáveis de Temperatura\n",
    "a.plot.box()"
   ]
  }
 ],
 "metadata": {
  "kernelspec": {
   "display_name": "Python 3",
   "language": "python",
   "name": "python3"
  },
  "language_info": {
   "codemirror_mode": {
    "name": "ipython",
    "version": 3
   },
   "file_extension": ".py",
   "mimetype": "text/x-python",
   "name": "python",
   "nbconvert_exporter": "python",
   "pygments_lexer": "ipython3",
   "version": "3.8.8"
  }
 },
 "nbformat": 4,
 "nbformat_minor": 5
}
